{
 "cells": [
  {
   "cell_type": "markdown",
   "metadata": {},
   "source": [
    "## Functions\n",
    "### Information Needed from the User?\n",
    "   * Age\n",
    "   * Sex\n",
    "   * Weight (pounds)\n",
    "   * Height (inches) \n",
    "   * Activity Level"
   ]
  },
  {
   "cell_type": "markdown",
   "metadata": {},
   "source": [
    "### Basal Metabolic Rate"
   ]
  },
  {
   "cell_type": "code",
   "execution_count": 3,
   "metadata": {},
   "outputs": [],
   "source": [
    "def bmr(gender, wt, ht, age):\n",
    "    if gender == 'Male':\n",
    "        BMR = (10 * (wt*2.2)) + (6.25*(ht*0.39)) -(5*age) + 5\n",
    "    else:\n",
    "        BMR = (10 * (wt*2.2)) + (6.25*(ht*0.39)) - (5*age) - 161\n",
    "    return BMR"
   ]
  },
  {
   "cell_type": "markdown",
   "metadata": {},
   "source": [
    "### Harris-Benedict (Activity Level Multiplier)"
   ]
  },
  {
   "cell_type": "markdown",
   "metadata": {},
   "source": [
    "* 1 = Sedentary (little or no exercise) : Calorie-Calculation = BMR x 1.2\n",
    "* 2 = Lightly active (light exercise/sports 1-3 days/week) : BMR x 1.375\n",
    "* 3 = Moderately active (moderate exercise/sports 3-5 days/week) : BMR x 1.55\n",
    "* 4 = Very active (hard exercise/sports 6-7 days a week) : BMR x 1.725\n",
    "* 5 = If you are extra active (very hard exercise/sports & a physical job) : BMR x 1.9\n",
    "\n",
    "\n",
    "* For weight loss, 500 cal defict/day = 1 pound lost/week."
   ]
  },
  {
   "cell_type": "code",
   "execution_count": 6,
   "metadata": {},
   "outputs": [],
   "source": [
    "def h_b(BMR,act_lvl):\n",
    "    \n",
    "    if act_lvl == 1:\n",
    "        daly_need = BMR*1.2\n",
    "        \n",
    "    elif act_lvl == 2:\n",
    "        daly_need = BMR*1.375\n",
    "        \n",
    "    elif act_lvl == 3:\n",
    "        daly_need = BMR*1.55\n",
    "        \n",
    "    elif act_lvl == 4:\n",
    "        daly_need = BMR*1.725\n",
    "        \n",
    "    elif act_lvl == 5:\n",
    "        daly_need = BMR*1.9\n",
    "        \n",
    "    return daly_need"
   ]
  }
 ],
 "metadata": {
  "kernelspec": {
   "display_name": "Python 3",
   "language": "python",
   "name": "python3"
  },
  "language_info": {
   "codemirror_mode": {
    "name": "ipython",
    "version": 3
   },
   "file_extension": ".py",
   "mimetype": "text/x-python",
   "name": "python",
   "nbconvert_exporter": "python",
   "pygments_lexer": "ipython3",
   "version": "3.7.4"
  }
 },
 "nbformat": 4,
 "nbformat_minor": 4
}
