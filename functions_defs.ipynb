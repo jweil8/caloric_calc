{
 "cells": [
  {
   "cell_type": "markdown",
   "metadata": {},
   "source": [
    "## Functions\n",
    "### Information Needed from the User?\n",
    "   * Age\n",
    "   * Sex\n",
    "   * Weight (pounds)\n",
    "   * Height (inches) \n",
    "   * Activity Level"
   ]
  },
  {
   "cell_type": "markdown",
   "metadata": {},
   "source": [
    "### Basal Metabolic Rate"
   ]
  },
  {
   "cell_type": "code",
   "execution_count": 23,
   "metadata": {},
   "outputs": [],
   "source": [
    "def bmr(gender, wt, ht, age):\n",
    "    if gender == 'Male':\n",
    "        BMR = 66 + (6.23*wt) + (12.7*ht) - (6.8*age)\n",
    "    else:\n",
    "        BMR = 655 + (4.35*wt) + (4.7*ht) - (4.7*age)\n",
    "    return int(BMR)"
   ]
  },
  {
   "cell_type": "markdown",
   "metadata": {},
   "source": [
    "### Harris-Benedict (Activity Level Multiplier)"
   ]
  },
  {
   "cell_type": "markdown",
   "metadata": {},
   "source": [
    "* 1 = Sedentary (little or no exercise) : Calorie-Calculation = BMR x 1.2\n",
    "* 2 = Lightly active (light exercise/sports 1-3 days/week) : BMR x 1.375\n",
    "* 3 = Moderately active (moderate exercise/sports 3-5 days/week) : BMR x 1.55\n",
    "* 4 = Very active (hard exercise/sports 6-7 days a week) : BMR x 1.725\n",
    "* 5 = If you are extra active (very hard exercise/sports & a physical job) : BMR x 1.9\n",
    "\n",
    "\n",
    "* For weight loss, 500 cal defict/day = 1 pound lost/week."
   ]
  },
  {
   "cell_type": "code",
   "execution_count": 22,
   "metadata": {},
   "outputs": [],
   "source": [
    "def h_b(BMR,alevel):\n",
    "    \n",
    "    if alevel == 1:\n",
    "        tdee = BMR*1.2\n",
    "        \n",
    "    elif alevel == 2:\n",
    "        tdee = BMR*1.375\n",
    "        \n",
    "    elif alevel == 3:\n",
    "        tdee = BMR*1.55\n",
    "        \n",
    "    elif alevel == 4:\n",
    "        tdee = BMR*1.725\n",
    "        \n",
    "    elif alevel == 5:\n",
    "        tdee = BMR*1.9\n",
    "        \n",
    "    return int(tdee)"
   ]
  },
  {
   "cell_type": "markdown",
   "metadata": {},
   "source": [
    "### Combined ->"
   ]
  },
  {
   "cell_type": "code",
   "execution_count": 20,
   "metadata": {},
   "outputs": [],
   "source": [
    "def both(gender, wt, ht, age, alevel):\n",
    "    if gender == 'Male':\n",
    "        BMR = 66 + (6.23*wt) + (12.7*ht) - (6.8*age)\n",
    "    else:\n",
    "        BMR = 655 + (4.35*wt) + (4.7*ht) - (4.7*age)\n",
    "        \n",
    "    if alevel == 1:\n",
    "        tdee = BMR*1.2\n",
    "        \n",
    "    elif alevel == 2:\n",
    "        tdee = BMR*1.375\n",
    "        \n",
    "    elif alevel == 3:\n",
    "        tdee = BMR*1.55\n",
    "        \n",
    "    elif alevel == 4:\n",
    "        tdee = BMR*1.725\n",
    "        \n",
    "    elif alevel == 5:\n",
    "        tdee = BMR*1.9\n",
    "        \n",
    "    return int(BMR), int(tdee)"
   ]
  },
  {
   "cell_type": "code",
   "execution_count": 21,
   "metadata": {},
   "outputs": [
    {
     "data": {
      "text/plain": [
       "(2073, 3576)"
      ]
     },
     "execution_count": 21,
     "metadata": {},
     "output_type": "execute_result"
    }
   ],
   "source": [
    "both('Male',203,74,29,4)"
   ]
  },
  {
   "cell_type": "code",
   "execution_count": 17,
   "metadata": {},
   "outputs": [
    {
     "data": {
      "text/plain": [
       "2073.29"
      ]
     },
     "execution_count": 17,
     "metadata": {},
     "output_type": "execute_result"
    }
   ],
   "source": [
    "bmr('Male',203,74,29)"
   ]
  },
  {
   "cell_type": "code",
   "execution_count": null,
   "metadata": {},
   "outputs": [],
   "source": []
  }
 ],
 "metadata": {
  "kernelspec": {
   "display_name": "Python 3",
   "language": "python",
   "name": "python3"
  },
  "language_info": {
   "codemirror_mode": {
    "name": "ipython",
    "version": 3
   },
   "file_extension": ".py",
   "mimetype": "text/x-python",
   "name": "python",
   "nbconvert_exporter": "python",
   "pygments_lexer": "ipython3",
   "version": "3.7.4"
  }
 },
 "nbformat": 4,
 "nbformat_minor": 4
}
